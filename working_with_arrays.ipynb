{
 "cells": [
  {
   "cell_type": "markdown",
   "metadata": {},
   "source": [
    "### Examen T2 - Manipulación de Arrays"
   ]
  },
  {
   "cell_type": "code",
   "execution_count": null,
   "metadata": {},
   "outputs": [],
   "source": []
  },
  {
   "cell_type": "markdown",
   "metadata": {},
   "source": [
    "**Pregunta 1:** Dado un array numpy unidimensional de tamaño 10, redimensiona este array a una matriz de tamaño 5x2."
   ]
  },
  {
   "cell_type": "markdown",
   "metadata": {},
   "source": [
    "array --> [45,23,6,7,4,9,25,14,47,66]\n",
    "\n",
    "resultado:\n",
    "\n",
    "[45  9]\n",
    "\n",
    "[23 25]\n",
    "\n",
    "[ 6 14]\n",
    "\n",
    "[ 7 47]\n",
    "\n",
    "[ 4 66]"
   ]
  },
  {
   "cell_type": "code",
   "execution_count": 5,
   "metadata": {},
   "outputs": [
    {
     "name": "stdout",
     "output_type": "stream",
     "text": [
      "[45 23  6  7  4  9 25 14 47 66]\n",
      "[[45  9]\n",
      " [23 25]\n",
      " [ 6 14]\n",
      " [ 7 47]\n",
      " [ 4 66]]\n"
     ]
    }
   ],
   "source": [
    "import numpy as np\n",
    "a=np.array([45,23,6,7,4,9,25,14,47,66])\n",
    "a1=np.reshape(a,(5,2),order=\"F\")\n",
    "print(a)\n",
    "print(a1)"
   ]
  },
  {
   "cell_type": "markdown",
   "metadata": {},
   "source": [
    "**Pregunta 2:** Dado un array numpy bidimensional de tamaño 3x4, redimensiona este array a un vector unidimensional."
   ]
  },
  {
   "cell_type": "markdown",
   "metadata": {},
   "source": [
    "array -->\n",
    " \n",
    "[45,23,6,33]\n",
    "\n",
    "[10,3,44,28]\n",
    "\n",
    "[28,72,52,22]\n",
    "\n",
    "Resultado -->  [45 10 28 23  3 72  6 44 52 33 28 22]\n",
    " "
   ]
  },
  {
   "cell_type": "code",
   "execution_count": 12,
   "metadata": {},
   "outputs": [
    {
     "name": "stdout",
     "output_type": "stream",
     "text": [
      "[[45 23  6 33]\n",
      " [10  3 44 28]\n",
      " [28 72 52 22]]\n",
      "[45 10 28 23  3 72  6 44 52 33 28 22]\n"
     ]
    }
   ],
   "source": [
    "b=np.array([[45,23,6,33],[10,3,44,28],[28,72,52,22]])\n",
    "print(b)\n",
    "b1=b.flatten(order=\"F\")\n",
    "print(b1)\n"
   ]
  },
  {
   "cell_type": "markdown",
   "metadata": {},
   "source": [
    "**Pregunta 3:** Generar un array unidimensional con 24 elementos aleatorios a continuación:\n",
    "\n",
    "* Redimiensionar a un array bidimensional de tamaño 4x6 \n",
    "* Redimensionar a partir del anterior a un array tridimensional de tamaño 2x3x4."
   ]
  },
  {
   "cell_type": "code",
   "execution_count": 21,
   "metadata": {},
   "outputs": [
    {
     "name": "stdout",
     "output_type": "stream",
     "text": [
      "array unidimensional con 24 elementos aleatorios:\n",
      "[  9  79  37  64  98  42  41 100  85  29  76  79  79  80  42  71  38  94\n",
      "   7  70  91  95  75   7]\n",
      "redimensionamiento a 4x6:\n",
      "[[  9  79  37  64  98  42]\n",
      " [ 41 100  85  29  76  79]\n",
      " [ 79  80  42  71  38  94]\n",
      " [  7  70  91  95  75   7]]\n",
      "redimensionamiento el anterior a array tridimensional de 2x3x4:\n",
      "[[[  9  79  37  64]\n",
      "  [ 98  42  41 100]\n",
      "  [ 85  29  76  79]]\n",
      "\n",
      " [[ 79  80  42  71]\n",
      "  [ 38  94   7  70]\n",
      "  [ 91  95  75   7]]]\n"
     ]
    }
   ],
   "source": [
    "print(\"array unidimensional con 24 elementos aleatorios:\")\n",
    "c=np.random.randint(0,101,size=24)\n",
    "print(c)\n",
    "print(\"redimensionamiento a 4x6:\")\n",
    "c1=np.reshape(c,(4,6))\n",
    "print(c1)\n",
    "print(\"redimensionamiento el anterior a array tridimensional de 2x3x4:\")\n",
    "c2=np.reshape(c1,(2,3,4))\n",
    "print(c2)\n",
    "\n"
   ]
  },
  {
   "cell_type": "markdown",
   "metadata": {},
   "source": [
    "**Pregunta 4:** Dado un array numpy bidimensional A de tamaño 3x3 y un array numpy bidimensional B de tamaño 3x2, crea un nuevo array que sea la concatenación horizontal de A y B."
   ]
  },
  {
   "cell_type": "code",
   "execution_count": 33,
   "metadata": {},
   "outputs": [
    {
     "name": "stdout",
     "output_type": "stream",
     "text": [
      "Array bidimensional de 3x3: \n",
      "[[80 91 72]\n",
      " [22 17 21]\n",
      " [89 72 29]]\n",
      "Array bidimensional de 3x2: \n",
      "[[59 39]\n",
      " [44 54]\n",
      " [66 26]]\n",
      "Nuevo array, concatenación horizontal de A y B:\n",
      "[[80 91 72 59 39]\n",
      " [22 17 21 44 54]\n",
      " [89 72 29 66 26]]\n"
     ]
    }
   ],
   "source": [
    "print(\"Array bidimensional de 3x3: \")\n",
    "A=np.random.randint(0,101,size=(3,3))\n",
    "print(A)\n",
    "print(\"Array bidimensional de 3x2: \")\n",
    "B=np.random.randint(0,101,size=(3,2))\n",
    "print(B)\n",
    "print(\"Nuevo array, concatenación horizontal de A y B:\")\n",
    "C=np.concatenate((A,B),axis=1)\n",
    "print(C)"
   ]
  },
  {
   "cell_type": "markdown",
   "metadata": {},
   "source": [
    "**Pregunta 5:** Dado un array numpy bidimensional A de tamaño 4x4, divide este array en dos arrays, uno que contenga las dos primeras filas y otro que contenga las dos últimas filas."
   ]
  },
  {
   "cell_type": "code",
   "execution_count": 35,
   "metadata": {},
   "outputs": [
    {
     "name": "stdout",
     "output_type": "stream",
     "text": [
      "Array bidimensional de 4x4: \n",
      "[[ 31  19  90  85]\n",
      " [ 38   3  77  75]\n",
      " [  9  65  60  84]\n",
      " [ 99  43 100  74]]\n",
      "división del array en dos:\n",
      "[array([[31, 19, 90, 85],\n",
      "       [38,  3, 77, 75]]), array([[  9,  65,  60,  84],\n",
      "       [ 99,  43, 100,  74]])]\n"
     ]
    }
   ],
   "source": [
    "print(\"Array bidimensional de 4x4: \")\n",
    "A=np.random.randint(0,101,size=(4,4))\n",
    "print(A)\n",
    "print(\"división del array en dos:\")\n",
    "B=np.split(A,2)\n",
    "print(B)"
   ]
  },
  {
   "cell_type": "markdown",
   "metadata": {},
   "source": [
    "**Pregunta 6:** Dado un array numpy unidimensional de tamaño 10, inserta un nuevo elemento en la posición 5 y elimina el elemento en la posición 3."
   ]
  },
  {
   "cell_type": "code",
   "execution_count": 38,
   "metadata": {},
   "outputs": [
    {
     "name": "stdout",
     "output_type": "stream",
     "text": [
      "Array unidimensional de 10 elementos: \n",
      "[58 29 71  4 42 41 23 57 90 63]\n",
      "[58 29 71  4 42 34 41 23 57 90 63]\n",
      "[58 29 71 42 34 41 23 57 90 63]\n"
     ]
    }
   ],
   "source": [
    "print(\"Array unidimensional de 10 elementos: \")\n",
    "A=np.random.randint(0,101,size=10)\n",
    "print(A)\n",
    "B=np.insert(A,5,34)\n",
    "print(B)\n",
    "C=np.delete(B,3)\n",
    "print(C)"
   ]
  },
  {
   "cell_type": "markdown",
   "metadata": {},
   "source": [
    "Una forma sencilla de filtrar valores dentro de un array es pasando un array de valores booleanos, veamos:\n"
   ]
  },
  {
   "cell_type": "code",
   "execution_count": 1,
   "metadata": {},
   "outputs": [
    {
     "name": "stdout",
     "output_type": "stream",
     "text": [
      "[5 4 8]\n"
     ]
    }
   ],
   "source": [
    "import numpy as np \n",
    "\n",
    "a = np.array([5,2,4,7,8])\n",
    "filtrado = a[[True,False,True,False,True]]\n",
    "print(filtrado)"
   ]
  },
  {
   "cell_type": "markdown",
   "metadata": {},
   "source": [
    "**Pregunta 7:** Basandose en el ejemplo anterior y los conocimientos sobre operadores de relación generar un array  unidimensional de tamaño 15 y elementos aleatorios, elimina todos los elementos que sean mayores que 10 y luego inserta el valor 20 al final del array resultante."
   ]
  },
  {
   "cell_type": "code",
   "execution_count": 44,
   "metadata": {},
   "outputs": [
    {
     "name": "stdout",
     "output_type": "stream",
     "text": [
      "Array unidimensional de 15 elementos aleatorios:\n",
      "[19 11  2  4  0 17 12 15 13  5 14 10  7  0  7]\n",
      "Se eliminan todos aquellos elementos que sean mayores a 10:\n",
      "[2 4 0 5 7 0 7]\n",
      "Se inserta el valor 20 al final del array resultante:\n",
      "[ 2  4  0  5  7  0  7 20]\n"
     ]
    }
   ],
   "source": [
    "print(\"Array unidimensional de 15 elementos aleatorios:\")\n",
    "A=np.random.randint(0,20,size=15)\n",
    "print(A)\n",
    "print(\"Se eliminan todos aquellos elementos que sean mayores a 10:\")\n",
    "B=A[A<10]\n",
    "print(B)\n",
    "print(\"Se inserta el valor 20 al final del array resultante:\")\n",
    "C=np.append(B,20)\n",
    "print(C)"
   ]
  },
  {
   "cell_type": "markdown",
   "metadata": {},
   "source": [
    "**Pregunta 8:** Dado un array numpy bidimensional de tamaño 3x3, calcula la matriz transpuesta y la matriz inversa."
   ]
  },
  {
   "cell_type": "code",
   "execution_count": 45,
   "metadata": {},
   "outputs": [
    {
     "name": "stdout",
     "output_type": "stream",
     "text": [
      "Array bidimensional de 3x3: \n",
      "[[82 25 42]\n",
      " [20 57 71]\n",
      " [66 96 69]]\n",
      "matriz transpuesta:\n",
      "[[82 20 66]\n",
      " [25 57 96]\n",
      " [42 71 69]]\n",
      "matriz inversa:\n",
      "[[ 0.01247404 -0.00998183  0.00267826]\n",
      " [-0.01430426 -0.01248702  0.0215559 ]\n",
      " [ 0.00796989  0.02692108 -0.01805988]]\n"
     ]
    }
   ],
   "source": [
    "import numpy.linalg as la\n",
    "print(\"Array bidimensional de 3x3: \")\n",
    "A=np.random.randint(0,101,size=(3,3))\n",
    "print(A)\n",
    "print(\"matriz transpuesta:\")\n",
    "print(A.T)\n",
    "print(\"matriz inversa:\")\n",
    "print(la.inv(A))"
   ]
  },
  {
   "cell_type": "markdown",
   "metadata": {},
   "source": [
    "**Pregunta 9:** Dadas dos matrices numpy A y B de tamaño 3x3, calcula el producto matricial de A y B."
   ]
  },
  {
   "cell_type": "code",
   "execution_count": 46,
   "metadata": {},
   "outputs": [
    {
     "name": "stdout",
     "output_type": "stream",
     "text": [
      "Array bidimensional de 3x3: \n",
      "[[42 36 53]\n",
      " [66 60  0]\n",
      " [52 72 59]]\n",
      "Array bidimensional de 3x3: \n",
      "[[15 89 60]\n",
      " [58 96 15]\n",
      " [10 72 87]]\n",
      "[[ 630 3204 3180]\n",
      " [3828 5760    0]\n",
      " [ 520 5184 5133]]\n"
     ]
    }
   ],
   "source": [
    "print(\"Array bidimensional de 3x3: \")\n",
    "A=np.random.randint(0,101,size=(3,3))\n",
    "print(A)\n",
    "print(\"Array bidimensional de 3x3: \")\n",
    "B=np.random.randint(0,101,size=(3,3))\n",
    "print(B)\n",
    "mult=np.multiply(A,B)\n",
    "print(mult)"
   ]
  },
  {
   "cell_type": "markdown",
   "metadata": {},
   "source": [
    "**Pregunta 10:** Dado un array numpy bidimensional de tamaño 3x3, calcula la suma de los elementos en cada fila y la media de los elementos en cada columna."
   ]
  },
  {
   "cell_type": "code",
   "execution_count": 48,
   "metadata": {},
   "outputs": [
    {
     "name": "stdout",
     "output_type": "stream",
     "text": [
      "Array bidimensional de 3x3: \n",
      "[[38 79 56]\n",
      " [20 60 91]\n",
      " [92 64 51]]\n",
      "suma de los elementos de cada fila:\n",
      "[173 171 207]\n",
      "media de los elementos en cada columna:\n",
      "[50.         67.66666667 66.        ]\n"
     ]
    }
   ],
   "source": [
    "print(\"Array bidimensional de 3x3: \")\n",
    "A=np.random.randint(0,101,size=(3,3))\n",
    "print(A)\n",
    "print(\"suma de los elementos de cada fila:\")\n",
    "B=np.sum(A,axis=1)\n",
    "print(B)\n",
    "print(\"media de los elementos en cada columna:\")\n",
    "C=np.mean(A,axis=0)\n",
    "print(C)\n"
   ]
  },
  {
   "cell_type": "markdown",
   "metadata": {},
   "source": [
    "**Pregunta 11:** Dado un array numpy unidimensional de tamaño 10, calcula el producto acumulativo de los elementos del array y luego encuentra el índice del elemento máximo en el array resultante."
   ]
  },
  {
   "cell_type": "code",
   "execution_count": 58,
   "metadata": {},
   "outputs": [
    {
     "name": "stdout",
     "output_type": "stream",
     "text": [
      "Array unidimensional:\n",
      "[ 3  5  4  4  1 10  7  5  5  9  1  9  3  3  2]\n",
      "Producto acumulativo de los elementos:\n",
      "[        3        15        60       240       240      2400     16800\n",
      "     84000    420000   3780000   3780000  34020000 102060000 306180000\n",
      " 612360000]\n",
      "Índice del elemento máximo en el array resultante: 14\n"
     ]
    }
   ],
   "source": [
    "print(\"Array unidimensional:\")\n",
    "d=np.random.randint(1,11,size=15)\n",
    "print(d)\n",
    "producto_acumulativo = np.cumprod(d)\n",
    "print(\"Producto acumulativo de los elementos:\")\n",
    "print(producto_acumulativo)\n",
    "indice_maximo = np.argmax(producto_acumulativo)\n",
    "print(\"Índice del elemento máximo en el array resultante:\", indice_maximo)"
   ]
  },
  {
   "cell_type": "markdown",
   "metadata": {},
   "source": [
    "**Pregunta 12:** Dado un array numpy unidimensional que representa las calificaciones de los estudiantes en un examen, calcula la media, la mediana y la desviación estándar de las calificaciones."
   ]
  },
  {
   "cell_type": "code",
   "execution_count": 62,
   "metadata": {},
   "outputs": [
    {
     "name": "stdout",
     "output_type": "stream",
     "text": [
      "Array unidimensional de las calificaciones de estudiantes:\n",
      "[10  4  5  9  7  4  9  5  8  6  7  9  8  8  9  4  8 10  4  7  8  5 10]\n",
      "La media:  7.130434782608695\n",
      "La mediana:  8.0\n",
      "La desviación estándar:  2.0494823911987257\n"
     ]
    }
   ],
   "source": [
    "print(\"Array unidimensional de las calificaciones de estudiantes:\")\n",
    "d=np.random.randint(3,11,size=23)\n",
    "print(d)\n",
    "print(\"La media: \", np.mean(d))\n",
    "print(\"La mediana: \", np.median(d))\n",
    "print(\"La desviación estándar: \", np.std(d))"
   ]
  },
  {
   "cell_type": "markdown",
   "metadata": {},
   "source": [
    "**Pregunta 13:** Dado un array numpy bidimensional que representa las edades de los estudiantes en una clase (filas representan diferentes grupos de edad y columnas representan diferentes géneros), calcula la moda de las edades en cada grupo de edad y género."
   ]
  },
  {
   "cell_type": "code",
   "execution_count": 69,
   "metadata": {},
   "outputs": [
    {
     "name": "stdout",
     "output_type": "stream",
     "text": [
      "Array bidimensional de edades:\n",
      "[[20 22 24]\n",
      " [21 23 20]]\n",
      "Moda de las edades para cada grupo de edad:\n",
      "[20 20]\n",
      "Moda de las edades para cada género:\n",
      "[20 22 20]\n"
     ]
    }
   ],
   "source": [
    "edades = np.array([[20, 22, 24],\n",
    "                   [21, 23, 20]])\n",
    "\n",
    "print(\"Array bidimensional de edades:\")\n",
    "print(edades)\n",
    "\n",
    "# Calcula la moda de las edades para cada grupo de edad (a lo largo de las filas)\n",
    "moda_por_grupo_de_edad = np.apply_along_axis(lambda x: np.bincount(x).argmax(), axis=1, arr=edades)\n",
    "\n",
    "print(\"Moda de las edades para cada grupo de edad:\")\n",
    "print(moda_por_grupo_de_edad)\n",
    "\n",
    "# Calcula la moda de las edades para cada género (a lo largo de las columnas)\n",
    "moda_por_genero = np.apply_along_axis(lambda x: np.bincount(x).argmax(), axis=0, arr=edades)\n",
    "\n",
    "print(\"Moda de las edades para cada género:\")\n",
    "print(moda_por_genero)\n"
   ]
  },
  {
   "cell_type": "markdown",
   "metadata": {},
   "source": [
    "\n",
    "**Pregunta 14:** Un investigador está estudiando el rendimiento académico de un grupo de estudiantes en dos asignaturas: Matemáticas y Ciencias. Ha recopilado las calificaciones finales de los estudiantes en ambas asignaturas y quiere obtener algunas estadísticas descriptivas.\n",
    "\n",
    "El array de calificaciones está estructurado de la siguiente manera:\n",
    "\n",
    "* La primera columna representa las calificaciones de los estudiantes en Matemáticas.\n",
    "* La segunda columna representa las calificaciones de los estudiantes en Ciencias.\n",
    "* La segunda columna representa las calificaciones de los estudiantes en Ciencias.\n",
    "\n",
    "Por cada asignatura calcule media, mediana y desviación estandar. Y saque sus conclusiones respecto al rendimiento.\n"
   ]
  },
  {
   "cell_type": "markdown",
   "metadata": {},
   "source": [
    "[85, 90,65]\n",
    "\n",
    "[70, 75,45]\n",
    "\n",
    "[90, 85,88]\n",
    "\n",
    "[65, 80,68]\n",
    "\n",
    "[75, 70,59]"
   ]
  },
  {
   "cell_type": "code",
   "execution_count": 75,
   "metadata": {},
   "outputs": [
    {
     "name": "stdout",
     "output_type": "stream",
     "text": [
      "media:  [77. 80. 65.]\n",
      "mediana:  [75. 80. 65.]\n",
      "desviación típica:  [ 9.2736185   7.07106781 13.95707706]\n"
     ]
    }
   ],
   "source": [
    "calificaciones = np.array([[85,90,65],\n",
    "                           [70,75,45],\n",
    "                           [90,85,88],\n",
    "                           [65,80,68],\n",
    "                           [75,70,59]])\n",
    "\n",
    "media=np.mean(calificaciones,axis=0)\n",
    "print(\"media: \",media)\n",
    "print(\"mediana: \", np.median(calificaciones, axis=0))\n",
    "print(\"desviación típica: \",np.std(calificaciones,axis=0))"
   ]
  },
  {
   "cell_type": "markdown",
   "metadata": {},
   "source": [
    "Para la mediana con respecto a la media, vemos que siguen una distribución simétrica o relativamente simétrica incluso con la variación de 2 puntos en el caso de la asignatura de matemáticas. La mediana nos proporciona el valor medio cuando las calificaciones están ordenadas de menor a mayor, de ahí que en este caso coinciden los valores de la media con los de la mediana. La desviación estándar proporciona una medida de la dispersión de los datos con respecto a la media. Una desviación estándar alta indica que las calificaciones están más dispersas alrededor de la media, mientras que una desviación estándar baja indica que las calificaciones están más cerca de la media. La alta desviación estándar en la tercera asignatura sugiere que las calificaciones están más dispersas, lo que podría indicar que los estudiantes tienen diferentes niveles de rendimiento en esa asignatura en comparación con las otras dos."
   ]
  },
  {
   "cell_type": "markdown",
   "metadata": {},
   "source": [
    "#### Utilizando máscaras"
   ]
  },
  {
   "cell_type": "markdown",
   "metadata": {},
   "source": [
    "**Pregunta 15:**  Dado un array numpy unidimensional de tamaño 10 que representa las ventas diarias de una tienda, encuentra todos los días en los que las ventas superaron los 100 dólares."
   ]
  },
  {
   "cell_type": "markdown",
   "metadata": {},
   "source": [
    "array ----> [85, 110, 90, 130, 95, 105, 120, 140, 75, 115]"
   ]
  },
  {
   "cell_type": "code",
   "execution_count": 85,
   "metadata": {},
   "outputs": [
    {
     "name": "stdout",
     "output_type": "stream",
     "text": [
      "Ventas diarias de una tienda:\n",
      "[ 85 110  90 130  95 105 120 140  75 115]\n",
      "A continuación, los días en los que la ventas superan los 100 dólares:\n",
      "[-- 110 -- 130 -- 105 120 140 -- 115]\n"
     ]
    }
   ],
   "source": [
    "import numpy.ma as ma\n",
    "print(\"Ventas diarias de una tienda:\")\n",
    "ventas_diarias=np.array([85, 110, 90, 130, 95, 105, 120, 140, 75, 115])\n",
    "print(A)\n",
    "print(\"A continuación, los días en los que la ventas superan los 100 dólares:\")\n",
    "dias=ma.masked_where(ventas_diarias<100, ventas_diarias)\n",
    "print(dias)\n"
   ]
  },
  {
   "cell_type": "markdown",
   "metadata": {},
   "source": [
    "**Pregunta 16:** Dada una matriz numpy bidimensional que representa los resultados de un examen (filas representan estudiantes y columnas representan preguntas), encuentra todos los estudiantes que respondieron correctamente a todas las preguntas."
   ]
  },
  {
   "cell_type": "markdown",
   "metadata": {},
   "source": [
    "Array\n",
    "\n",
    "[1, 0, 1, 1]\n",
    "\n",
    "[1, 1, 1, 0]\n",
    "\n",
    "[1, 1, 1, 1]\n",
    "\n",
    "[0, 0, 1, 1]\n",
    "\n",
    "[1, 0, 0, 1]"
   ]
  },
  {
   "cell_type": "code",
   "execution_count": 86,
   "metadata": {},
   "outputs": [
    {
     "name": "stdout",
     "output_type": "stream",
     "text": [
      "[[1 -- 1 1]\n",
      " [1 1 1 --]\n",
      " [1 1 1 1]\n",
      " [-- -- 1 1]\n",
      " [1 -- -- 1]]\n"
     ]
    }
   ],
   "source": [
    "matriz=[[1, 0, 1, 1],\n",
    "\n",
    "        [1, 1, 1, 0],\n",
    "\n",
    "        [1, 1, 1, 1],\n",
    "\n",
    "        [0, 0, 1, 1],\n",
    "\n",
    "        [1, 0, 0, 1]]\n",
    "\n",
    "mx1=ma.masked_equal(matriz,0)\n",
    "print(mx1)"
   ]
  },
  {
   "cell_type": "markdown",
   "metadata": {},
   "source": [
    "El estudiante que respondió correctamente a todas las preguntas fue el tercero."
   ]
  }
 ],
 "metadata": {
  "kernelspec": {
   "display_name": "Python 3",
   "language": "python",
   "name": "python3"
  },
  "language_info": {
   "codemirror_mode": {
    "name": "ipython",
    "version": 3
   },
   "file_extension": ".py",
   "mimetype": "text/x-python",
   "name": "python",
   "nbconvert_exporter": "python",
   "pygments_lexer": "ipython3",
   "version": "3.10.11"
  }
 },
 "nbformat": 4,
 "nbformat_minor": 2
}
